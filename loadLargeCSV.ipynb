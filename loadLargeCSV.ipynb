{
 "cells": [
  {
   "cell_type": "code",
   "execution_count": 1,
   "id": "6ab2fe3a",
   "metadata": {},
   "outputs": [],
   "source": [
    "import pandas as pd\n",
    "import os"
   ]
  },
  {
   "cell_type": "code",
   "execution_count": 2,
   "id": "22be3997",
   "metadata": {},
   "outputs": [
    {
     "data": {
      "text/plain": [
       "'C:\\\\Users\\\\Sagar\\\\python practice'"
      ]
     },
     "execution_count": 2,
     "metadata": {},
     "output_type": "execute_result"
    }
   ],
   "source": [
    "os.getcwd()"
   ]
  },
  {
   "cell_type": "code",
   "execution_count": 2,
   "id": "83fb84a3",
   "metadata": {},
   "outputs": [],
   "source": [
    "for i in range(1,2501):\n",
    "    d=pd.read_csv('D:\\\\dataset\\\\Netflix Userbase.csv',nrows=i)\n"
   ]
  },
  {
   "cell_type": "code",
   "execution_count": 13,
   "id": "e0ae1606",
   "metadata": {},
   "outputs": [],
   "source": [
    "a=pd.DataFrame()\n",
    "for i in pd.read_csv('D:\\\\dataset\\\\Netflix Userbase.csv',chunksize=500):\n",
    "    df=pd.DataFrame(i)\n",
    "    a=pd.concat([a,df])\n",
    "    \n",
    "    \n"
   ]
  },
  {
   "cell_type": "code",
   "execution_count": 14,
   "id": "2585bf41",
   "metadata": {},
   "outputs": [
    {
     "data": {
      "text/html": [
       "<div>\n",
       "<style scoped>\n",
       "    .dataframe tbody tr th:only-of-type {\n",
       "        vertical-align: middle;\n",
       "    }\n",
       "\n",
       "    .dataframe tbody tr th {\n",
       "        vertical-align: top;\n",
       "    }\n",
       "\n",
       "    .dataframe thead th {\n",
       "        text-align: right;\n",
       "    }\n",
       "</style>\n",
       "<table border=\"1\" class=\"dataframe\">\n",
       "  <thead>\n",
       "    <tr style=\"text-align: right;\">\n",
       "      <th></th>\n",
       "      <th>User ID</th>\n",
       "      <th>Subscription Type</th>\n",
       "      <th>Monthly Revenue</th>\n",
       "      <th>Join Date</th>\n",
       "      <th>Last Payment Date</th>\n",
       "      <th>Country</th>\n",
       "      <th>Age</th>\n",
       "      <th>Gender</th>\n",
       "      <th>Device</th>\n",
       "      <th>Plan Duration</th>\n",
       "    </tr>\n",
       "  </thead>\n",
       "  <tbody>\n",
       "    <tr>\n",
       "      <th>2495</th>\n",
       "      <td>2496</td>\n",
       "      <td>Premium</td>\n",
       "      <td>14</td>\n",
       "      <td>25-07-22</td>\n",
       "      <td>12-07-23</td>\n",
       "      <td>Spain</td>\n",
       "      <td>28</td>\n",
       "      <td>Female</td>\n",
       "      <td>Smart TV</td>\n",
       "      <td>1 Month</td>\n",
       "    </tr>\n",
       "    <tr>\n",
       "      <th>2496</th>\n",
       "      <td>2497</td>\n",
       "      <td>Basic</td>\n",
       "      <td>15</td>\n",
       "      <td>04-08-22</td>\n",
       "      <td>14-07-23</td>\n",
       "      <td>Spain</td>\n",
       "      <td>33</td>\n",
       "      <td>Female</td>\n",
       "      <td>Smart TV</td>\n",
       "      <td>1 Month</td>\n",
       "    </tr>\n",
       "    <tr>\n",
       "      <th>2497</th>\n",
       "      <td>2498</td>\n",
       "      <td>Standard</td>\n",
       "      <td>12</td>\n",
       "      <td>09-08-22</td>\n",
       "      <td>15-07-23</td>\n",
       "      <td>United States</td>\n",
       "      <td>38</td>\n",
       "      <td>Male</td>\n",
       "      <td>Laptop</td>\n",
       "      <td>1 Month</td>\n",
       "    </tr>\n",
       "    <tr>\n",
       "      <th>2498</th>\n",
       "      <td>2499</td>\n",
       "      <td>Standard</td>\n",
       "      <td>13</td>\n",
       "      <td>12-08-22</td>\n",
       "      <td>12-07-23</td>\n",
       "      <td>Canada</td>\n",
       "      <td>48</td>\n",
       "      <td>Female</td>\n",
       "      <td>Tablet</td>\n",
       "      <td>1 Month</td>\n",
       "    </tr>\n",
       "    <tr>\n",
       "      <th>2499</th>\n",
       "      <td>2500</td>\n",
       "      <td>Basic</td>\n",
       "      <td>15</td>\n",
       "      <td>13-08-22</td>\n",
       "      <td>12-07-23</td>\n",
       "      <td>United States</td>\n",
       "      <td>35</td>\n",
       "      <td>Female</td>\n",
       "      <td>Smart TV</td>\n",
       "      <td>1 Month</td>\n",
       "    </tr>\n",
       "  </tbody>\n",
       "</table>\n",
       "</div>"
      ],
      "text/plain": [
       "      User ID Subscription Type  Monthly Revenue Join Date Last Payment Date  \\\n",
       "2495     2496           Premium               14  25-07-22          12-07-23   \n",
       "2496     2497             Basic               15  04-08-22          14-07-23   \n",
       "2497     2498          Standard               12  09-08-22          15-07-23   \n",
       "2498     2499          Standard               13  12-08-22          12-07-23   \n",
       "2499     2500             Basic               15  13-08-22          12-07-23   \n",
       "\n",
       "            Country  Age  Gender    Device Plan Duration  \n",
       "2495          Spain   28  Female  Smart TV       1 Month  \n",
       "2496          Spain   33  Female  Smart TV       1 Month  \n",
       "2497  United States   38    Male    Laptop       1 Month  \n",
       "2498         Canada   48  Female    Tablet       1 Month  \n",
       "2499  United States   35  Female  Smart TV       1 Month  "
      ]
     },
     "execution_count": 14,
     "metadata": {},
     "output_type": "execute_result"
    }
   ],
   "source": [
    "a.tail()"
   ]
  },
  {
   "cell_type": "code",
   "execution_count": 5,
   "id": "3ce2dbd3",
   "metadata": {},
   "outputs": [],
   "source": [
    "s=pd.concat(a,axis=0)"
   ]
  },
  {
   "cell_type": "code",
   "execution_count": 6,
   "id": "663a26fc",
   "metadata": {},
   "outputs": [
    {
     "data": {
      "text/plain": [
       "(2500, 10)"
      ]
     },
     "execution_count": 6,
     "metadata": {},
     "output_type": "execute_result"
    }
   ],
   "source": [
    "s.shape"
   ]
  },
  {
   "cell_type": "code",
   "execution_count": 15,
   "id": "70e4ac0a",
   "metadata": {},
   "outputs": [
    {
     "name": "stderr",
     "output_type": "stream",
     "text": [
      "C:\\Users\\Sagar\\AppData\\Local\\Temp\\ipykernel_19924\\2661108640.py:4: FutureWarning: The frame.append method is deprecated and will be removed from pandas in a future version. Use pandas.concat instead.\n",
      "  d=d.append(df,ignore_index=True)\n",
      "C:\\Users\\Sagar\\AppData\\Local\\Temp\\ipykernel_19924\\2661108640.py:4: FutureWarning: The frame.append method is deprecated and will be removed from pandas in a future version. Use pandas.concat instead.\n",
      "  d=d.append(df,ignore_index=True)\n",
      "C:\\Users\\Sagar\\AppData\\Local\\Temp\\ipykernel_19924\\2661108640.py:4: FutureWarning: The frame.append method is deprecated and will be removed from pandas in a future version. Use pandas.concat instead.\n",
      "  d=d.append(df,ignore_index=True)\n",
      "C:\\Users\\Sagar\\AppData\\Local\\Temp\\ipykernel_19924\\2661108640.py:4: FutureWarning: The frame.append method is deprecated and will be removed from pandas in a future version. Use pandas.concat instead.\n",
      "  d=d.append(df,ignore_index=True)\n",
      "C:\\Users\\Sagar\\AppData\\Local\\Temp\\ipykernel_19924\\2661108640.py:4: FutureWarning: The frame.append method is deprecated and will be removed from pandas in a future version. Use pandas.concat instead.\n",
      "  d=d.append(df,ignore_index=True)\n",
      "C:\\Users\\Sagar\\AppData\\Local\\Temp\\ipykernel_19924\\2661108640.py:4: FutureWarning: The frame.append method is deprecated and will be removed from pandas in a future version. Use pandas.concat instead.\n",
      "  d=d.append(df,ignore_index=True)\n",
      "C:\\Users\\Sagar\\AppData\\Local\\Temp\\ipykernel_19924\\2661108640.py:4: FutureWarning: The frame.append method is deprecated and will be removed from pandas in a future version. Use pandas.concat instead.\n",
      "  d=d.append(df,ignore_index=True)\n",
      "C:\\Users\\Sagar\\AppData\\Local\\Temp\\ipykernel_19924\\2661108640.py:4: FutureWarning: The frame.append method is deprecated and will be removed from pandas in a future version. Use pandas.concat instead.\n",
      "  d=d.append(df,ignore_index=True)\n",
      "C:\\Users\\Sagar\\AppData\\Local\\Temp\\ipykernel_19924\\2661108640.py:4: FutureWarning: The frame.append method is deprecated and will be removed from pandas in a future version. Use pandas.concat instead.\n",
      "  d=d.append(df,ignore_index=True)\n",
      "C:\\Users\\Sagar\\AppData\\Local\\Temp\\ipykernel_19924\\2661108640.py:4: FutureWarning: The frame.append method is deprecated and will be removed from pandas in a future version. Use pandas.concat instead.\n",
      "  d=d.append(df,ignore_index=True)\n",
      "C:\\Users\\Sagar\\AppData\\Local\\Temp\\ipykernel_19924\\2661108640.py:4: FutureWarning: The frame.append method is deprecated and will be removed from pandas in a future version. Use pandas.concat instead.\n",
      "  d=d.append(df,ignore_index=True)\n",
      "C:\\Users\\Sagar\\AppData\\Local\\Temp\\ipykernel_19924\\2661108640.py:4: FutureWarning: The frame.append method is deprecated and will be removed from pandas in a future version. Use pandas.concat instead.\n",
      "  d=d.append(df,ignore_index=True)\n",
      "C:\\Users\\Sagar\\AppData\\Local\\Temp\\ipykernel_19924\\2661108640.py:4: FutureWarning: The frame.append method is deprecated and will be removed from pandas in a future version. Use pandas.concat instead.\n",
      "  d=d.append(df,ignore_index=True)\n",
      "C:\\Users\\Sagar\\AppData\\Local\\Temp\\ipykernel_19924\\2661108640.py:4: FutureWarning: The frame.append method is deprecated and will be removed from pandas in a future version. Use pandas.concat instead.\n",
      "  d=d.append(df,ignore_index=True)\n",
      "C:\\Users\\Sagar\\AppData\\Local\\Temp\\ipykernel_19924\\2661108640.py:4: FutureWarning: The frame.append method is deprecated and will be removed from pandas in a future version. Use pandas.concat instead.\n",
      "  d=d.append(df,ignore_index=True)\n",
      "C:\\Users\\Sagar\\AppData\\Local\\Temp\\ipykernel_19924\\2661108640.py:4: FutureWarning: The frame.append method is deprecated and will be removed from pandas in a future version. Use pandas.concat instead.\n",
      "  d=d.append(df,ignore_index=True)\n",
      "C:\\Users\\Sagar\\AppData\\Local\\Temp\\ipykernel_19924\\2661108640.py:4: FutureWarning: The frame.append method is deprecated and will be removed from pandas in a future version. Use pandas.concat instead.\n",
      "  d=d.append(df,ignore_index=True)\n",
      "C:\\Users\\Sagar\\AppData\\Local\\Temp\\ipykernel_19924\\2661108640.py:4: FutureWarning: The frame.append method is deprecated and will be removed from pandas in a future version. Use pandas.concat instead.\n",
      "  d=d.append(df,ignore_index=True)\n",
      "C:\\Users\\Sagar\\AppData\\Local\\Temp\\ipykernel_19924\\2661108640.py:4: FutureWarning: The frame.append method is deprecated and will be removed from pandas in a future version. Use pandas.concat instead.\n",
      "  d=d.append(df,ignore_index=True)\n",
      "C:\\Users\\Sagar\\AppData\\Local\\Temp\\ipykernel_19924\\2661108640.py:4: FutureWarning: The frame.append method is deprecated and will be removed from pandas in a future version. Use pandas.concat instead.\n",
      "  d=d.append(df,ignore_index=True)\n",
      "C:\\Users\\Sagar\\AppData\\Local\\Temp\\ipykernel_19924\\2661108640.py:4: FutureWarning: The frame.append method is deprecated and will be removed from pandas in a future version. Use pandas.concat instead.\n",
      "  d=d.append(df,ignore_index=True)\n",
      "C:\\Users\\Sagar\\AppData\\Local\\Temp\\ipykernel_19924\\2661108640.py:4: FutureWarning: The frame.append method is deprecated and will be removed from pandas in a future version. Use pandas.concat instead.\n",
      "  d=d.append(df,ignore_index=True)\n",
      "C:\\Users\\Sagar\\AppData\\Local\\Temp\\ipykernel_19924\\2661108640.py:4: FutureWarning: The frame.append method is deprecated and will be removed from pandas in a future version. Use pandas.concat instead.\n",
      "  d=d.append(df,ignore_index=True)\n",
      "C:\\Users\\Sagar\\AppData\\Local\\Temp\\ipykernel_19924\\2661108640.py:4: FutureWarning: The frame.append method is deprecated and will be removed from pandas in a future version. Use pandas.concat instead.\n",
      "  d=d.append(df,ignore_index=True)\n",
      "C:\\Users\\Sagar\\AppData\\Local\\Temp\\ipykernel_19924\\2661108640.py:4: FutureWarning: The frame.append method is deprecated and will be removed from pandas in a future version. Use pandas.concat instead.\n",
      "  d=d.append(df,ignore_index=True)\n"
     ]
    },
    {
     "data": {
      "text/plain": [
       "(2500, 10)"
      ]
     },
     "execution_count": 15,
     "metadata": {},
     "output_type": "execute_result"
    }
   ],
   "source": [
    "d=pd.DataFrame()\n",
    "for i in pd.read_csv('D:\\\\dataset\\\\Netflix Userbase.csv',chunksize=100):\n",
    "    df=pd.DataFrame(i)\n",
    "    d=d.append(df,ignore_index=True)\n",
    "d.shape"
   ]
  },
  {
   "cell_type": "code",
   "execution_count": 1,
   "id": "c438be58",
   "metadata": {},
   "outputs": [
    {
     "ename": "NameError",
     "evalue": "name 'd' is not defined",
     "output_type": "error",
     "traceback": [
      "\u001b[1;31m---------------------------------------------------------------------------\u001b[0m",
      "\u001b[1;31mNameError\u001b[0m                                 Traceback (most recent call last)",
      "Cell \u001b[1;32mIn[1], line 1\u001b[0m\n\u001b[1;32m----> 1\u001b[0m \u001b[43md\u001b[49m\n",
      "\u001b[1;31mNameError\u001b[0m: name 'd' is not defined"
     ]
    }
   ],
   "source": [
    "d"
   ]
  },
  {
   "cell_type": "code",
   "execution_count": null,
   "id": "cce01eb7",
   "metadata": {},
   "outputs": [],
   "source": []
  }
 ],
 "metadata": {
  "kernelspec": {
   "display_name": "Python 3 (ipykernel)",
   "language": "python",
   "name": "python3"
  },
  "language_info": {
   "codemirror_mode": {
    "name": "ipython",
    "version": 3
   },
   "file_extension": ".py",
   "mimetype": "text/x-python",
   "name": "python",
   "nbconvert_exporter": "python",
   "pygments_lexer": "ipython3",
   "version": "3.10.9"
  }
 },
 "nbformat": 4,
 "nbformat_minor": 5
}
